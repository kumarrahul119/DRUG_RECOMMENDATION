{
 "cells": [
  {
   "cell_type": "code",
   "execution_count": 3,
   "metadata": {},
   "outputs": [
    {
     "name": "stdout",
     "output_type": "stream",
     "text": [
      "2\n"
     ]
    }
   ],
   "source": [
    "from heapq import heappush, heappop\n",
    "\n",
    "def min_operations(L, R):\n",
    "    pq = []\n",
    "    for num in range(L, R+1):\n",
    "        heappush(pq, -num)  # Negate for max heap\n",
    "\n",
    "    operations = 0\n",
    "    while pq:\n",
    "        a = -heappop(pq)\n",
    "        if not pq:\n",
    "            break\n",
    "        b = -heappop(pq)\n",
    "        operations += 1\n",
    "        heappush(pq, -(a // 4 + b // 4))\n",
    "\n",
    "    return operations\n",
    "\n",
    "# Example usage:\n",
    "L = 2\n",
    "R = 4\n",
    "result = min_operations(L, R)\n",
    "print(result)"
   ]
  },
  {
   "cell_type": "code",
   "execution_count": 17,
   "metadata": {},
   "outputs": [],
   "source": [
    "def solve(Q, Queries):\n",
    "    MAX_VAL = 100000  \n",
    "    steps = [0] * (MAX_VAL + 1)\n",
    "    def compute_steps(x):\n",
    "        steps_count = 0\n",
    "        while x > 0:\n",
    "            x //= 4\n",
    "            steps_count += 1\n",
    "        return steps_count\n",
    "    for i in range(1, MAX_VAL + 1):\n",
    "        steps[i] = compute_steps(i)\n",
    "    prefix = [0] * (MAX_VAL + 1)\n",
    "    for i in range(1, MAX_VAL + 1):\n",
    "        prefix[i] = prefix[i-1]+steps[i]\n",
    "    results = []\n",
    "    for query in Queries:\n",
    "        L, R = query\n",
    "        if L > 1:\n",
    "            results.append(prefix[R] - prefix[L - 1]+steps[L])\n",
    "        else:\n",
    "            results.append(prefix[R]+steps[L])\n",
    "    return results"
   ]
  },
  {
   "cell_type": "code",
   "execution_count": 18,
   "metadata": {},
   "outputs": [
    {
     "name": "stdout",
     "output_type": "stream",
     "text": [
      "[29, 5]\n"
     ]
    }
   ],
   "source": [
    "Q = 2\n",
    "Queries = [[10, 20], [2,4]]\n",
    "print(solve(Q, Queries))"
   ]
  },
  {
   "cell_type": "code",
   "execution_count": 20,
   "metadata": {},
   "outputs": [
    {
     "name": "stdout",
     "output_type": "stream",
     "text": [
      "2\n"
     ]
    }
   ],
   "source": [
    "def max_workdays(performance):\n",
    "    max_days = 0\n",
    "    current_sum = 0\n",
    "    min_sum = 0\n",
    "\n",
    "    for p in performance:\n",
    "        current_sum += p\n",
    "        max_days = max(max_days, current_sum - min_sum)\n",
    "        min_sum = min(min_sum, current_sum)\n",
    "\n",
    "    return max_days\n",
    "\n",
    "performance=[-1,-2,2,-1,-2]\n",
    "print(max_workdays(performance))"
   ]
  }
 ],
 "metadata": {
  "kernelspec": {
   "display_name": "Python 3",
   "language": "python",
   "name": "python3"
  },
  "language_info": {
   "codemirror_mode": {
    "name": "ipython",
    "version": 3
   },
   "file_extension": ".py",
   "mimetype": "text/x-python",
   "name": "python",
   "nbconvert_exporter": "python",
   "pygments_lexer": "ipython3",
   "version": "3.11.3"
  }
 },
 "nbformat": 4,
 "nbformat_minor": 2
}
